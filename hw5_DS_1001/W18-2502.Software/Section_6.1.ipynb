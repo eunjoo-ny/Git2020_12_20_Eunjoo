{
 "cells": [
  {
   "cell_type": "code",
   "execution_count": 1,
   "metadata": {
    "collapsed": true
   },
   "outputs": [],
   "source": [
    "import os\n",
    "import re\n",
    "import numpy as np\n",
    "import pandas as pd\n",
    "import matplotlib.pyplot as plt\n",
    "%matplotlib inline"
   ]
  },
  {
   "cell_type": "code",
   "execution_count": 2,
   "metadata": {
    "collapsed": false
   },
   "outputs": [
    {
     "name": "stdout",
     "output_type": "stream",
     "text": [
      "number of stop word lists : 52\n",
      "number of stop words in all the lists : 2066\n"
     ]
    }
   ],
   "source": [
    "stop_word_dict = {}\n",
    "file_path = \"stopwords/en/\"\n",
    "for stop_word_file in os.listdir(file_path):\n",
    "    # _none.txt doesn't contain any stop word\n",
    "    if stop_word_file == \"_none.txt\":\n",
    "        continue\n",
    "    # these files contain ngrams, not just single words\n",
    "    if stop_word_file in [\"galago_structured.txt\", \"gilner_morales.txt\"]:\n",
    "        continue\n",
    "    # This is meant to augment another list, and so is confusing here\n",
    "    if stop_word_file == \"galago_forumstop.txt\":\n",
    "        continue\n",
    "    input_file = open(file_path + stop_word_file, encoding='UTF-8')\n",
    "    stop_words = input_file.readlines()\n",
    "    input_file.close()\n",
    "    stop_words = list(map(lambda x:x.strip().lower(), stop_words))\n",
    "    stop_words = list(filter(lambda x:len(x) > 0, stop_words))\n",
    "    stop_words = list(filter(lambda x:x[0] >= 'a' and x[0] <= 'z', stop_words))\n",
    "    # there are some duplicate stop words\n",
    "    stop_words = list(set(stop_words))\n",
    "    # calculate frequency\n",
    "    for stop_word in stop_words:\n",
    "        stop_word_dict[stop_word] = stop_word_dict.get(stop_word, 0) + 1\n",
    "print(\"number of stop word lists : %d\" %(len(os.listdir(file_path)) - 4))\n",
    "print(\"number of stop words in all the lists : %d\" %(len(stop_word_dict.keys())))"
   ]
  },
  {
   "cell_type": "code",
   "execution_count": 3,
   "metadata": {
    "collapsed": true
   },
   "outputs": [],
   "source": [
    "freq_df = pd.DataFrame({\"word\":list(stop_word_dict.keys()), \"freq\":list(stop_word_dict.values())})\n",
    "freq_df[\"percentage\"] = freq_df[\"freq\"] / 52"
   ]
  },
  {
   "cell_type": "code",
   "execution_count": 4,
   "metadata": {
    "collapsed": false
   },
   "outputs": [
    {
     "name": "stdout",
     "output_type": "stream",
     "text": [
      "number of stop words included in <10% lists : 1396; percentage : 67.57%\n",
      "number of stop words included in 1 list : 807; percentage : 39.06%\n",
      "number of stop words included in >80% lists : 64; percentage : 3.10%\n"
     ]
    }
   ],
   "source": [
    "controversial_word = list(freq_df[freq_df.percentage < 0.1]['word'])\n",
    "print(\"number of stop words included in <10%% lists : %d; percentage : %.2f%%\"\n",
    "      %(len(controversial_word), len(controversial_word) * 100 / freq_df.shape[0]))\n",
    "word_in_one_list = list(freq_df[freq_df.freq == 1]['word'])\n",
    "print(\"number of stop words included in 1 list : %d; percentage : %.2f%%\"\n",
    "      %(len(word_in_one_list), len(word_in_one_list) * 100 / freq_df.shape[0]))\n",
    "accpeted_word = list(freq_df[freq_df.percentage > 0.8]['word'])\n",
    "print(\"number of stop words included in >80%% lists : %d; percentage : %.2f%%\"\n",
    "      %(len(accpeted_word), len(accpeted_word) * 100 / freq_df.shape[0]))"
   ]
  },
  {
   "cell_type": "code",
   "execution_count": 5,
   "metadata": {
    "collapsed": false
   },
   "outputs": [
    {
     "name": "stdout",
     "output_type": "stream",
     "text": [
      "number of stop lists with controversial words :  45\n"
     ]
    }
   ],
   "source": [
    "stop_word_dict = {}\n",
    "file_path = \"stopwords/en/\"\n",
    "controversial_list_cnt = 0\n",
    "for stop_word_file in os.listdir(file_path):\n",
    "    # _none.txt doesn't contain any stop word\n",
    "    if stop_word_file == \"_none.txt\":\n",
    "        continue\n",
    "    # these files contain ngrams, not just single words\n",
    "    if stop_word_file in [\"galago_structured.txt\", \"gilner_morales.txt\"]:\n",
    "        continue\n",
    "    # This is meant to augment another list, and so is confusing here\n",
    "    if stop_word_file == \"galago_forumstop.txt\":\n",
    "        continue\n",
    "    input_file = open(file_path + stop_word_file, encoding='UTF-8')\n",
    "    stop_words = input_file.readlines()\n",
    "    input_file.close()\n",
    "    stop_words = list(map(lambda x:x.strip().lower(), stop_words))\n",
    "    stop_words = list(filter(lambda x:len(x) > 0, stop_words))\n",
    "    stop_words = list(filter(lambda x:x[0] >= 'a' and x[0] <= 'z', stop_words))\n",
    "    # there are some duplicate stop words\n",
    "    stop_words = list(set(stop_words))\n",
    "    # calculate frequency\n",
    "    for word in stop_words:\n",
    "        if word in controversial_word:\n",
    "            controversial_list_cnt += 1\n",
    "            break\n",
    "print(\"number of stop lists with controversial words : \", controversial_list_cnt)"
   ]
  },
  {
   "cell_type": "code",
   "execution_count": 6,
   "metadata": {
    "collapsed": true
   },
   "outputs": [],
   "source": [
    "df = pd.read_csv(\"google_1gram_cnt.csv\")"
   ]
  },
  {
   "cell_type": "code",
   "execution_count": 7,
   "metadata": {
    "collapsed": false
   },
   "outputs": [
    {
     "data": {
      "image/png": "[encoded data removed]",
      "text/plain": [
       "<Figure size 360x216 with 1 Axes>"
      ]
     },
     "metadata": {},
     "output_type": "display_data"
    }
   ],
   "source": [
    "controversial_words = df[df.percentage < 0.10]\n",
    "plt.figure(figsize=(5, 3))\n",
    "plt.hist(controversial_words['df'], rwidth=0.8, edgecolor='black', facecolor=\"black\")\n",
    "plt.xlabel(\"Frequency\")\n",
    "plt.ylabel(\"Number of Stop Words\")\n",
    "plt.tight_layout()\n",
    "plt.savefig(\"figures/google_document_frequency.png\", dpi=300, bbox_inches='tight')\n",
    "plt.show()"
   ]
  },
  {
   "cell_type": "code",
   "execution_count": 8,
   "metadata": {
    "collapsed": false
   },
   "outputs": [
    {
     "data": {
      "text/html": [
       "<div>\n",
       "<style>\n",
       "    .dataframe thead tr:only-child th {\n",
       "        text-align: right;\n",
       "    }\n",
       "\n",
       "    .dataframe thead th {\n",
       "        text-align: left;\n",
       "    }\n",
       "\n",
       "    .dataframe tbody tr th {\n",
       "        vertical-align: top;\n",
       "    }\n",
       "</style>\n",
       "<table border=\"1\" class=\"dataframe\">\n",
       "  <thead>\n",
       "    <tr style=\"text-align: right;\">\n",
       "      <th></th>\n",
       "      <th>word</th>\n",
       "      <th>freq</th>\n",
       "      <th>percentage</th>\n",
       "      <th>match_count</th>\n",
       "      <th>volume_count</th>\n",
       "      <th>df</th>\n",
       "    </tr>\n",
       "  </thead>\n",
       "  <tbody>\n",
       "    <tr>\n",
       "      <th>238</th>\n",
       "      <td>book</td>\n",
       "      <td>3</td>\n",
       "      <td>0.057692</td>\n",
       "      <td>122339388.0</td>\n",
       "      <td>7471834.0</td>\n",
       "      <td>0.575511</td>\n",
       "    </tr>\n",
       "    <tr>\n",
       "      <th>368</th>\n",
       "      <td>day</td>\n",
       "      <td>5</td>\n",
       "      <td>0.096154</td>\n",
       "      <td>235502808.0</td>\n",
       "      <td>7149547.0</td>\n",
       "      <td>0.550688</td>\n",
       "    </tr>\n",
       "    <tr>\n",
       "      <th>455</th>\n",
       "      <td>early</td>\n",
       "      <td>5</td>\n",
       "      <td>0.096154</td>\n",
       "      <td>131494753.0</td>\n",
       "      <td>6962309.0</td>\n",
       "      <td>0.536266</td>\n",
       "    </tr>\n",
       "    <tr>\n",
       "      <th>570</th>\n",
       "      <td>finally</td>\n",
       "      <td>2</td>\n",
       "      <td>0.038462</td>\n",
       "      <td>62381205.0</td>\n",
       "      <td>6909353.0</td>\n",
       "      <td>0.532187</td>\n",
       "    </tr>\n",
       "    <tr>\n",
       "      <th>608</th>\n",
       "      <td>free</td>\n",
       "      <td>1</td>\n",
       "      <td>0.019231</td>\n",
       "      <td>103078911.0</td>\n",
       "      <td>6511494.0</td>\n",
       "      <td>0.501542</td>\n",
       "    </tr>\n",
       "    <tr>\n",
       "      <th>633</th>\n",
       "      <td>general</td>\n",
       "      <td>2</td>\n",
       "      <td>0.038462</td>\n",
       "      <td>225306151.0</td>\n",
       "      <td>8088215.0</td>\n",
       "      <td>0.622988</td>\n",
       "    </tr>\n",
       "    <tr>\n",
       "      <th>657</th>\n",
       "      <td>great</td>\n",
       "      <td>3</td>\n",
       "      <td>0.057692</td>\n",
       "      <td>278574742.0</td>\n",
       "      <td>8087649.0</td>\n",
       "      <td>0.622944</td>\n",
       "    </tr>\n",
       "    <tr>\n",
       "      <th>762</th>\n",
       "      <td>house</td>\n",
       "      <td>1</td>\n",
       "      <td>0.019231</td>\n",
       "      <td>158321573.0</td>\n",
       "      <td>6886583.0</td>\n",
       "      <td>0.530433</td>\n",
       "    </tr>\n",
       "    <tr>\n",
       "      <th>847</th>\n",
       "      <td>introduction</td>\n",
       "      <td>1</td>\n",
       "      <td>0.019231</td>\n",
       "      <td>37676373.0</td>\n",
       "      <td>6642548.0</td>\n",
       "      <td>0.511636</td>\n",
       "    </tr>\n",
       "    <tr>\n",
       "      <th>936</th>\n",
       "      <td>life</td>\n",
       "      <td>2</td>\n",
       "      <td>0.038462</td>\n",
       "      <td>303632580.0</td>\n",
       "      <td>7894850.0</td>\n",
       "      <td>0.608094</td>\n",
       "    </tr>\n",
       "    <tr>\n",
       "      <th>985</th>\n",
       "      <td>man</td>\n",
       "      <td>4</td>\n",
       "      <td>0.076923</td>\n",
       "      <td>304508612.0</td>\n",
       "      <td>7027563.0</td>\n",
       "      <td>0.541292</td>\n",
       "    </tr>\n",
       "    <tr>\n",
       "      <th>1136</th>\n",
       "      <td>note</td>\n",
       "      <td>1</td>\n",
       "      <td>0.019231</td>\n",
       "      <td>72585815.0</td>\n",
       "      <td>6606005.0</td>\n",
       "      <td>0.508822</td>\n",
       "    </tr>\n",
       "    <tr>\n",
       "      <th>1156</th>\n",
       "      <td>number</td>\n",
       "      <td>5</td>\n",
       "      <td>0.096154</td>\n",
       "      <td>210832441.0</td>\n",
       "      <td>6581539.0</td>\n",
       "      <td>0.506937</td>\n",
       "    </tr>\n",
       "    <tr>\n",
       "      <th>1262</th>\n",
       "      <td>people</td>\n",
       "      <td>2</td>\n",
       "      <td>0.038462</td>\n",
       "      <td>329358030.0</td>\n",
       "      <td>7311073.0</td>\n",
       "      <td>0.563129</td>\n",
       "    </tr>\n",
       "    <tr>\n",
       "      <th>1533</th>\n",
       "      <td>small</td>\n",
       "      <td>5</td>\n",
       "      <td>0.096154</td>\n",
       "      <td>175242603.0</td>\n",
       "      <td>6641887.0</td>\n",
       "      <td>0.511585</td>\n",
       "    </tr>\n",
       "    <tr>\n",
       "      <th>1566</th>\n",
       "      <td>special</td>\n",
       "      <td>4</td>\n",
       "      <td>0.076923</td>\n",
       "      <td>86374118.0</td>\n",
       "      <td>6531715.0</td>\n",
       "      <td>0.503100</td>\n",
       "    </tr>\n",
       "    <tr>\n",
       "      <th>1580</th>\n",
       "      <td>state</td>\n",
       "      <td>3</td>\n",
       "      <td>0.057692</td>\n",
       "      <td>276687623.0</td>\n",
       "      <td>7876471.0</td>\n",
       "      <td>0.606678</td>\n",
       "    </tr>\n",
       "    <tr>\n",
       "      <th>1582</th>\n",
       "      <td>states</td>\n",
       "      <td>3</td>\n",
       "      <td>0.057692</td>\n",
       "      <td>189702937.0</td>\n",
       "      <td>7219768.0</td>\n",
       "      <td>0.556096</td>\n",
       "    </tr>\n",
       "    <tr>\n",
       "      <th>1754</th>\n",
       "      <td>time</td>\n",
       "      <td>5</td>\n",
       "      <td>0.096154</td>\n",
       "      <td>583894803.0</td>\n",
       "      <td>8118768.0</td>\n",
       "      <td>0.625341</td>\n",
       "    </tr>\n",
       "    <tr>\n",
       "      <th>1755</th>\n",
       "      <td>times</td>\n",
       "      <td>1</td>\n",
       "      <td>0.019231</td>\n",
       "      <td>122137394.0</td>\n",
       "      <td>6542576.0</td>\n",
       "      <td>0.503936</td>\n",
       "    </tr>\n",
       "    <tr>\n",
       "      <th>2007</th>\n",
       "      <td>work</td>\n",
       "      <td>4</td>\n",
       "      <td>0.076923</td>\n",
       "      <td>310897825.0</td>\n",
       "      <td>7098787.0</td>\n",
       "      <td>0.546778</td>\n",
       "    </tr>\n",
       "    <tr>\n",
       "      <th>2012</th>\n",
       "      <td>world</td>\n",
       "      <td>5</td>\n",
       "      <td>0.096154</td>\n",
       "      <td>252934367.0</td>\n",
       "      <td>7676228.0</td>\n",
       "      <td>0.591255</td>\n",
       "    </tr>\n",
       "    <tr>\n",
       "      <th>2036</th>\n",
       "      <td>years</td>\n",
       "      <td>3</td>\n",
       "      <td>0.057692</td>\n",
       "      <td>281623235.0</td>\n",
       "      <td>6562310.0</td>\n",
       "      <td>0.505456</td>\n",
       "    </tr>\n",
       "  </tbody>\n",
       "</table>\n",
       "</div>"
      ],
      "text/plain": [
       "              word  freq  percentage  match_count  volume_count        df\n",
       "238           book     3    0.057692  122339388.0     7471834.0  0.575511\n",
       "368            day     5    0.096154  235502808.0     7149547.0  0.550688\n",
       "455          early     5    0.096154  131494753.0     6962309.0  0.536266\n",
       "570        finally     2    0.038462   62381205.0     6909353.0  0.532187\n",
       "608           free     1    0.019231  103078911.0     6511494.0  0.501542\n",
       "633        general     2    0.038462  225306151.0     8088215.0  0.622988\n",
       "657          great     3    0.057692  278574742.0     8087649.0  0.622944\n",
       "762          house     1    0.019231  158321573.0     6886583.0  0.530433\n",
       "847   introduction     1    0.019231   37676373.0     6642548.0  0.511636\n",
       "936           life     2    0.038462  303632580.0     7894850.0  0.608094\n",
       "985            man     4    0.076923  304508612.0     7027563.0  0.541292\n",
       "1136          note     1    0.019231   72585815.0     6606005.0  0.508822\n",
       "1156        number     5    0.096154  210832441.0     6581539.0  0.506937\n",
       "1262        people     2    0.038462  329358030.0     7311073.0  0.563129\n",
       "1533         small     5    0.096154  175242603.0     6641887.0  0.511585\n",
       "1566       special     4    0.076923   86374118.0     6531715.0  0.503100\n",
       "1580         state     3    0.057692  276687623.0     7876471.0  0.606678\n",
       "1582        states     3    0.057692  189702937.0     7219768.0  0.556096\n",
       "1754          time     5    0.096154  583894803.0     8118768.0  0.625341\n",
       "1755         times     1    0.019231  122137394.0     6542576.0  0.503936\n",
       "2007          work     4    0.076923  310897825.0     7098787.0  0.546778\n",
       "2012         world     5    0.096154  252934367.0     7676228.0  0.591255\n",
       "2036         years     3    0.057692  281623235.0     6562310.0  0.505456"
      ]
     },
     "execution_count": 8,
     "metadata": {},
     "output_type": "execute_result"
    }
   ],
   "source": [
    "controversial_words[controversial_words.df > 0.5]"
   ]
  },
  {
   "cell_type": "code",
   "execution_count": null,
   "metadata": {
    "collapsed": true
   },
   "outputs": [],
   "source": []
  }
 ],
 "metadata": {
  "anaconda-cloud": {},
  "kernelspec": {
   "display_name": "Python [conda env:py35]",
   "language": "python",
   "name": "conda-env-py35-py"
  },
  "language_info": {
   "codemirror_mode": {
    "name": "ipython",
    "version": 3
   },
   "file_extension": ".py",
   "mimetype": "text/x-python",
   "name": "python",
   "nbconvert_exporter": "python",
   "pygments_lexer": "ipython3",
   "version": "3.5.4"
  }
 },
 "nbformat": 4,
 "nbformat_minor": 1
}
