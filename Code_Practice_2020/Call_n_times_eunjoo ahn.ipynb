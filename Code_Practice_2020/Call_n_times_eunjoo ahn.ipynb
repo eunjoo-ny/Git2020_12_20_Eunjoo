{
 "cells": [
  {
   "cell_type": "code",
   "execution_count": 1,
   "metadata": {},
   "outputs": [],
   "source": [
    "def call_20_times(func):\n",
    "    for i in range(20):\n",
    "        func(i)"
   ]
  },
  {
   "cell_type": "code",
   "execution_count": 3,
   "metadata": {},
   "outputs": [
    {
     "name": "stdout",
     "output_type": "stream",
     "text": [
      "Hello friends 0\n",
      "Hello friends 1\n",
      "Hello friends 2\n",
      "Hello friends 3\n",
      "Hello friends 4\n",
      "Hello friends 5\n",
      "Hello friends 6\n",
      "Hello friends 7\n",
      "Hello friends 8\n",
      "Hello friends 9\n",
      "Hello friends 10\n",
      "Hello friends 11\n",
      "Hello friends 12\n",
      "Hello friends 13\n",
      "Hello friends 14\n",
      "Hello friends 15\n",
      "Hello friends 16\n",
      "Hello friends 17\n",
      "Hello friends 18\n",
      "Hello friends 19\n"
     ]
    }
   ],
   "source": [
    "def print_hello(number):\n",
    "    print(\"Hello friends\",number)\n",
    "    \n",
    "    \n",
    "call_20_times(print_hello)\n"
   ]
  },
  {
   "cell_type": "code",
   "execution_count": null,
   "metadata": {},
   "outputs": [],
   "source": [
    "def call_20_times(func):\n",
    "    for i in range(20):\n",
    "        func(i)\n",
    "        \n",
    "def print_hello(number):\n",
    "    print(\"Hello friends\",number)\n",
    "    \n",
    "    \n",
    "call_20_times(print_hello)"
   ]
  },
  {
   "cell_type": "code",
   "execution_count": 9,
   "metadata": {},
   "outputs": [
    {
     "name": "stdout",
     "output_type": "stream",
     "text": [
      "Is it addition 6\n",
      "Is it addition 13\n",
      "Is it addition 21\n",
      "Is it addition 30\n",
      "Is it addition 40\n"
     ]
    }
   ],
   "source": [
    "def addition_5_times(func):\n",
    "    sum=0\n",
    "\n",
    "    for i in range(5):\n",
    "        \n",
    "        i=i+6\n",
    "        sum=sum+i\n",
    "        func(sum)\n",
    "def print_nice(number):\n",
    "    print(\"Is it addition\",number)\n",
    "addition_5_times(print_nice)"
   ]
  },
  {
   "cell_type": "code",
   "execution_count": 12,
   "metadata": {},
   "outputs": [
    {
     "name": "stdout",
     "output_type": "stream",
     "text": [
      "Is it addition 1\n",
      "Is it addition 3\n",
      "Is it addition 6\n",
      "Is it addition 10\n",
      "Is it addition 15\n",
      "Is it addition 21\n",
      "Is it addition 28\n",
      "Is it addition 36\n",
      "Is it addition 45\n",
      "Is it addition 55\n",
      "Is it addition 66\n",
      "Is it addition 78\n",
      "Is it addition 91\n",
      "Is it addition 105\n",
      "Is it addition 120\n",
      "Is it addition 136\n",
      "Is it addition 153\n",
      "Is it addition 171\n",
      "Is it addition 190\n",
      "Is it addition 210\n",
      "Is it addition 231\n",
      "Is it addition 253\n",
      "Is it addition 276\n",
      "Is it addition 300\n",
      "Is it addition 325\n",
      "Is it addition 351\n",
      "Is it addition 378\n",
      "Is it addition 406\n",
      "Is it addition 435\n",
      "Is it addition 465\n",
      "Is it addition 496\n",
      "Is it addition 528\n",
      "Is it addition 561\n",
      "Is it addition 595\n",
      "Is it addition 630\n",
      "Is it addition 666\n",
      "Is it addition 703\n",
      "Is it addition 741\n",
      "Is it addition 780\n",
      "Is it addition 820\n",
      "Is it addition 861\n",
      "Is it addition 903\n",
      "Is it addition 946\n",
      "Is it addition 990\n",
      "Is it addition 1035\n",
      "Is it addition 1081\n",
      "Is it addition 1128\n",
      "Is it addition 1176\n",
      "Is it addition 1225\n",
      "Is it addition 1275\n",
      "Is it addition 1326\n",
      "Is it addition 1378\n",
      "Is it addition 1431\n",
      "Is it addition 1485\n",
      "Is it addition 1540\n",
      "Is it addition 1596\n",
      "Is it addition 1653\n",
      "Is it addition 1711\n",
      "Is it addition 1770\n",
      "Is it addition 1830\n",
      "Is it addition 1891\n",
      "Is it addition 1953\n",
      "Is it addition 2016\n",
      "Is it addition 2080\n",
      "Is it addition 2145\n",
      "Is it addition 2211\n",
      "Is it addition 2278\n",
      "Is it addition 2346\n",
      "Is it addition 2415\n",
      "Is it addition 2485\n",
      "Is it addition 2556\n",
      "Is it addition 2628\n",
      "Is it addition 2701\n",
      "Is it addition 2775\n",
      "Is it addition 2850\n",
      "Is it addition 2926\n",
      "Is it addition 3003\n",
      "Is it addition 3081\n",
      "Is it addition 3160\n",
      "Is it addition 3240\n",
      "Is it addition 3321\n",
      "Is it addition 3403\n",
      "Is it addition 3486\n",
      "Is it addition 3570\n",
      "Is it addition 3655\n",
      "Is it addition 3741\n",
      "Is it addition 3828\n",
      "Is it addition 3916\n",
      "Is it addition 4005\n",
      "Is it addition 4095\n",
      "Is it addition 4186\n",
      "Is it addition 4278\n",
      "Is it addition 4371\n",
      "Is it addition 4465\n",
      "Is it addition 4560\n",
      "Is it addition 4656\n",
      "Is it addition 4753\n",
      "Is it addition 4851\n",
      "Is it addition 4950\n",
      "Is it addition 5050\n"
     ]
    }
   ],
   "source": [
    "def addition_100_times(func):\n",
    "    sum=0\n",
    "\n",
    "    for i in range(100):\n",
    "        \n",
    "        i=i+1\n",
    "        sum=sum+i\n",
    "        func(sum)\n",
    "def print_nice(number):\n",
    "    print(\"Is it addition\",number)\n",
    "addition_100_times(print_nice)"
   ]
  },
  {
   "cell_type": "code",
   "execution_count": null,
   "metadata": {},
   "outputs": [],
   "source": []
  }
 ],
 "metadata": {
  "kernelspec": {
   "display_name": "Python 3",
   "language": "python",
   "name": "python3"
  },
  "language_info": {
   "codemirror_mode": {
    "name": "ipython",
    "version": 3
   },
   "file_extension": ".py",
   "mimetype": "text/x-python",
   "name": "python",
   "nbconvert_exporter": "python",
   "pygments_lexer": "ipython3",
   "version": "3.8.3"
  }
 },
 "nbformat": 4,
 "nbformat_minor": 4
}
