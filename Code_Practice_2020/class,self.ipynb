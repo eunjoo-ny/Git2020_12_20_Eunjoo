{
 "cells": [
  {
   "cell_type": "code",
   "execution_count": 3,
   "metadata": {},
   "outputs": [
    {
     "ename": "NameError",
     "evalue": "name 'self' is not defined",
     "output_type": "error",
     "traceback": [
      "\u001b[0;31m---------------------------------------------------------------------------\u001b[0m",
      "\u001b[0;31mNameError\u001b[0m                                 Traceback (most recent call last)",
      "\u001b[0;32m<ipython-input-3-5a90c3273252>\u001b[0m in \u001b[0;36m<module>\u001b[0;34m\u001b[0m\n\u001b[0;32m----> 1\u001b[0;31m \u001b[0;32mclass\u001b[0m \u001b[0mstudent\u001b[0m\u001b[0;34m:\u001b[0m\u001b[0;34m\u001b[0m\u001b[0;34m\u001b[0m\u001b[0m\n\u001b[0m\u001b[1;32m      2\u001b[0m     \u001b[0;32mdef\u001b[0m \u001b[0m__init__\u001b[0m\u001b[0;34m(\u001b[0m\u001b[0mself\u001b[0m\u001b[0;34m,\u001b[0m\u001b[0mkorean\u001b[0m\u001b[0;34m,\u001b[0m\u001b[0menglish\u001b[0m\u001b[0;34m,\u001b[0m\u001b[0mmath\u001b[0m\u001b[0;34m,\u001b[0m\u001b[0mscience\u001b[0m\u001b[0;34m)\u001b[0m\u001b[0;34m:\u001b[0m\u001b[0;34m\u001b[0m\u001b[0;34m\u001b[0m\u001b[0m\n\u001b[1;32m      3\u001b[0m         \u001b[0mself\u001b[0m\u001b[0;34m.\u001b[0m\u001b[0mname\u001b[0m\u001b[0;34m=\u001b[0m\u001b[0meunjoo\u001b[0m\u001b[0;34m\u001b[0m\u001b[0;34m\u001b[0m\u001b[0m\n\u001b[1;32m      4\u001b[0m         \u001b[0mself\u001b[0m\u001b[0;34m.\u001b[0m\u001b[0mkorean\u001b[0m\u001b[0;34m=\u001b[0m\u001b[0;36m90\u001b[0m\u001b[0;34m\u001b[0m\u001b[0;34m\u001b[0m\u001b[0m\n\u001b[1;32m      5\u001b[0m         \u001b[0mself\u001b[0m\u001b[0;34m.\u001b[0m\u001b[0menglish\u001b[0m\u001b[0;34m=\u001b[0m\u001b[0;36m85\u001b[0m\u001b[0;34m\u001b[0m\u001b[0;34m\u001b[0m\u001b[0m\n",
      "\u001b[0;32m<ipython-input-3-5a90c3273252>\u001b[0m in \u001b[0;36mstudent\u001b[0;34m()\u001b[0m\n\u001b[1;32m     10\u001b[0m     \u001b[0;32mdef\u001b[0m \u001b[0maverage\u001b[0m\u001b[0;34m(\u001b[0m\u001b[0mself\u001b[0m\u001b[0;34m)\u001b[0m\u001b[0;34m:\u001b[0m\u001b[0;34m\u001b[0m\u001b[0;34m\u001b[0m\u001b[0m\n\u001b[1;32m     11\u001b[0m         \u001b[0;32mreturn\u001b[0m \u001b[0mtotal_sum\u001b[0m\u001b[0;34m(\u001b[0m\u001b[0;34m)\u001b[0m\u001b[0;34m/\u001b[0m\u001b[0;36m4\u001b[0m\u001b[0;34m\u001b[0m\u001b[0;34m\u001b[0m\u001b[0m\n\u001b[0;32m---> 12\u001b[0;31m     \u001b[0mprint\u001b[0m\u001b[0;34m(\u001b[0m\u001b[0mself\u001b[0m\u001b[0;34m.\u001b[0m\u001b[0mname\u001b[0m\u001b[0;34m,\u001b[0m \u001b[0mtoatal_sum\u001b[0m\u001b[0;34m(\u001b[0m\u001b[0mself\u001b[0m\u001b[0;34m)\u001b[0m\u001b[0;34m,\u001b[0m\u001b[0maverage\u001b[0m\u001b[0;34m(\u001b[0m\u001b[0mself\u001b[0m\u001b[0;34m)\u001b[0m\u001b[0;34m,\u001b[0m\u001b[0mset\u001b[0m\u001b[0;34m=\u001b[0m\u001b[0;34m\"\\t\"\u001b[0m\u001b[0;34m)\u001b[0m\u001b[0;34m\u001b[0m\u001b[0;34m\u001b[0m\u001b[0m\n\u001b[0m",
      "\u001b[0;31mNameError\u001b[0m: name 'self' is not defined"
     ]
    }
   ],
   "source": [
    "class student:\n",
    "    def __init__(self,korean,english,math,science):\n",
    "        self.name=eunjoo\n",
    "        self.korean=90\n",
    "        self.english=85\n",
    "        self.math=100\n",
    "        self.science=90\n",
    "    def total_sum(self):\n",
    "        return self.korean+self.english+self.math+self.science\n",
    "    def average(self):\n",
    "        return total_sum()/4\n",
    "    print(self.name, toatal_sum(self),average(self),set=\"\\t\")"
   ]
  },
  {
   "cell_type": "code",
   "execution_count": null,
   "metadata": {},
   "outputs": [],
   "source": [
    "#search for self"
   ]
  },
  {
   "cell_type": "code",
   "execution_count": 6,
   "metadata": {},
   "outputs": [
    {
     "name": "stdout",
     "output_type": "stream",
     "text": [
      "original number:['123', '1342', 'spy', '1546', '098']\n",
      "new_number:['123', '1342', '1546', '098']\n"
     ]
    }
   ],
   "source": [
    "list_input_a=[\"123\",\"1342\",\"spy\",\"1546\",\"098\"]\n",
    "list_new_number=[]\n",
    "for item in list_input_a:\n",
    "    try:\n",
    "        float(item)\n",
    "        list_new_number.append(item)\n",
    "    except:\n",
    "        pass\n",
    "print(\"original number:{}\".format(list_input_a))\n",
    "print(\"new_number:{}\".format(list_new_number))\n"
   ]
  },
  {
   "cell_type": "code",
   "execution_count": 7,
   "metadata": {},
   "outputs": [],
   "source": [
    "#summary\n",
    "list_of_list=[[1,2,3],\"animal\",[4,5,6,7],[8,9],\"apple pie\"]\n",
    "for a in list_of_list:\n",
    "    if a==list:\n",
    "        print(\"list:{}\".format(a))\n",
    "    \n"
   ]
  },
  {
   "cell_type": "code",
   "execution_count": 12,
   "metadata": {},
   "outputs": [
    {
     "name": "stdout",
     "output_type": "stream",
     "text": [
      "dictionary:[name:apple tree]\n",
      "dictionary:[type:plant]\n",
      "dictionary:[ingredient:apple]\n",
      "dictionary:[origin:korea]\n"
     ]
    }
   ],
   "source": [
    "dictionay={\"name\":\"apple tree\",\n",
    "          \"type\":\"plant\",\n",
    "          \"ingredient\":\"apple\",\n",
    "          \"origin\":\"korea\"}\n",
    "for key in dictionay:\n",
    "    print(\"dictionary:[{}:{}]\".format(key,dictionay[key]))"
   ]
  },
  {
   "cell_type": "code",
   "execution_count": 13,
   "metadata": {},
   "outputs": [
    {
     "name": "stdout",
     "output_type": "stream",
     "text": [
      "0\n",
      "1\n",
      "2\n",
      "3\n",
      "4\n",
      "5\n",
      "6\n",
      "7\n",
      "8\n",
      "9\n"
     ]
    }
   ],
   "source": [
    "for i in range(0,10,1):\n",
    "    print(i)\n",
    "    #second position is -th"
   ]
  },
  {
   "cell_type": "code",
   "execution_count": 25,
   "metadata": {},
   "outputs": [
    {
     "name": "stdout",
     "output_type": "stream",
     "text": [
      "[273]\n",
      "52\n",
      "[273, 103]\n",
      "32\n",
      "[273, 103, 57]\n",
      "[273, 103, 57, 855]\n"
     ]
    }
   ],
   "source": [
    "array=[273,52,103,32,57,855]\n",
    "A=[]\n",
    "for element in array:\n",
    "    if element%2==0: \n",
    "        print(element)\n",
    "    elif element%2==1:\n",
    "        A.append(element)\n",
    "        print(A)\n",
    "    "
   ]
  },
  {
   "cell_type": "code",
   "execution_count": 26,
   "metadata": {},
   "outputs": [
    {
     "name": "stdout",
     "output_type": "stream",
     "text": [
      "0-th:273\n",
      "1-th:52\n",
      "2-th:103\n",
      "3-th:32\n",
      "4-th:57\n",
      "5-th:855\n",
      "6-th:543\n",
      "7-th:678\n",
      "8-th:482\n"
     ]
    }
   ],
   "source": [
    "array=[273,52,103,32,57,855,543,678,482]\n",
    "for i in range(len(array)):\n",
    "    print(\"{}-th:{}\".format(i,array[i]))"
   ]
  },
  {
   "cell_type": "code",
   "execution_count": 31,
   "metadata": {},
   "outputs": [
    {
     "name": "stdout",
     "output_type": "stream",
     "text": [
      "482\n",
      "678\n",
      "543\n",
      "855\n",
      "57\n",
      "32\n",
      "103\n",
      "52\n",
      "273\n"
     ]
    }
   ],
   "source": [
    "array=[273,52,103,32,57,855,543,678,482]\n",
    "for i in reversed(array):\n",
    "    print(i)\n",
    "# I need to distinquish len and no-len   "
   ]
  },
  {
   "cell_type": "code",
   "execution_count": 36,
   "metadata": {},
   "outputs": [
    {
     "ename": "IndentationError",
     "evalue": "unexpected indent (<ipython-input-36-77debe74374c>, line 4)",
     "output_type": "error",
     "traceback": [
      "\u001b[0;36m  File \u001b[0;32m\"<ipython-input-36-77debe74374c>\"\u001b[0;36m, line \u001b[0;32m4\u001b[0m\n\u001b[0;31m    character[key_list]=element_list\u001b[0m\n\u001b[0m    ^\u001b[0m\n\u001b[0;31mIndentationError\u001b[0m\u001b[0;31m:\u001b[0m unexpected indent\n"
     ]
    }
   ],
   "source": [
    "key_list=[\"name\",\"hp\",\"mp\",\"level\"]\n",
    "element_list={\"eunjoo\",\"strong\",\"smart\",\"enough\"}\n",
    "character={}\n",
    "    character[key_list]=element_list\n",
    "    print(character)"
   ]
  },
  {
   "cell_type": "code",
   "execution_count": null,
   "metadata": {},
   "outputs": [],
   "source": []
  }
 ],
 "metadata": {
  "kernelspec": {
   "display_name": "Python 3",
   "language": "python",
   "name": "python3"
  },
  "language_info": {
   "codemirror_mode": {
    "name": "ipython",
    "version": 3
   },
   "file_extension": ".py",
   "mimetype": "text/x-python",
   "name": "python",
   "nbconvert_exporter": "python",
   "pygments_lexer": "ipython3",
   "version": "3.8.3"
  }
 },
 "nbformat": 4,
 "nbformat_minor": 4
}
